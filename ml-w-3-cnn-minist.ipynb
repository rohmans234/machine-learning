{
 "cells": [
  {
   "cell_type": "code",
   "execution_count": 51,
   "metadata": {
    "_cell_guid": "b1076dfc-b9ad-4769-8c92-a6c4dae69d19",
    "_uuid": "8f2839f25d086af736a60e9eeb907d3b93b6e0e5",
    "execution": {
     "iopub.execute_input": "2025-05-18T02:31:49.494595Z",
     "iopub.status.busy": "2025-05-18T02:31:49.494319Z",
     "iopub.status.idle": "2025-05-18T02:31:49.506457Z",
     "shell.execute_reply": "2025-05-18T02:31:49.505802Z",
     "shell.execute_reply.started": "2025-05-18T02:31:49.494574Z"
    },
    "trusted": true
   },
   "outputs": [
    {
     "name": "stdout",
     "output_type": "stream",
     "text": [
      "/kaggle/input/mnist-dataset/train-images.idx3-ubyte\n",
      "/kaggle/input/mnist-dataset/t10k-labels.idx1-ubyte\n",
      "/kaggle/input/mnist-dataset/t10k-images.idx3-ubyte\n",
      "/kaggle/input/mnist-dataset/train-labels.idx1-ubyte\n",
      "/kaggle/input/mnist-dataset/t10k-labels-idx1-ubyte/t10k-labels-idx1-ubyte\n",
      "/kaggle/input/mnist-dataset/t10k-images-idx3-ubyte/t10k-images-idx3-ubyte\n",
      "/kaggle/input/mnist-dataset/train-labels-idx1-ubyte/train-labels-idx1-ubyte\n",
      "/kaggle/input/mnist-dataset/train-images-idx3-ubyte/train-images-idx3-ubyte\n"
     ]
    }
   ],
   "source": [
    "# This Python 3 environment comes with many helpful analytics libraries installed\n",
    "# It is defined by the kaggle/python Docker image: https://github.com/kaggle/docker-python\n",
    "# For example, here's several helpful packages to load\n",
    "\n",
    "import numpy as np # linear algebra\n",
    "import pandas as pd # data processing, CSV file I/O (e.g. pd.read_csv)\n",
    "\n",
    "# Input data files are available in the read-only \"../input/\" directory\n",
    "# For example, running this (by clicking run or pressing Shift+Enter) will list all files under the input directory\n",
    "\n",
    "import os\n",
    "for dirname, _, filenames in os.walk('/kaggle/input'):\n",
    "    for filename in filenames:\n",
    "        print(os.path.join(dirname, filename))\n",
    "\n",
    "# You can write up to 20GB to the current directory (/kaggle/working/) that gets preserved as output when you create a version using \"Save & Run All\" \n",
    "# You can also write temporary files to /kaggle/temp/, but they won't be saved outside of the current session"
   ]
  },
  {
   "cell_type": "code",
   "execution_count": 52,
   "metadata": {
    "execution": {
     "iopub.execute_input": "2025-05-18T02:31:49.507987Z",
     "iopub.status.busy": "2025-05-18T02:31:49.507490Z",
     "iopub.status.idle": "2025-05-18T02:31:49.514684Z",
     "shell.execute_reply": "2025-05-18T02:31:49.514158Z",
     "shell.execute_reply.started": "2025-05-18T02:31:49.507970Z"
    },
    "trusted": true
   },
   "outputs": [],
   "source": [
    "import torch\n",
    "import torch.nn as nn\n",
    "import torch.nn.functional as F\n",
    "\n",
    "import os\n",
    "from torch.utils.data import Dataset\n",
    "from torchvision import transforms\n",
    "import numpy as np\n",
    "import struct\n",
    "from PIL import Image"
   ]
  },
  {
   "cell_type": "markdown",
   "metadata": {},
   "source": [
    "## CNN DATASET "
   ]
  },
  {
   "cell_type": "code",
   "execution_count": 53,
   "metadata": {
    "execution": {
     "iopub.execute_input": "2025-05-18T02:31:49.516154Z",
     "iopub.status.busy": "2025-05-18T02:31:49.515895Z",
     "iopub.status.idle": "2025-05-18T02:31:49.530348Z",
     "shell.execute_reply": "2025-05-18T02:31:49.529842Z",
     "shell.execute_reply.started": "2025-05-18T02:31:49.516139Z"
    },
    "trusted": true
   },
   "outputs": [],
   "source": [
    "class MNISTDataset(Dataset):\n",
    "    def __init__(self, images_path, labels_path, image_size=28):\n",
    "        self.images_path = images_path\n",
    "        self.labels_path = labels_path\n",
    "        self.image_size = image_size\n",
    "\n",
    "        self.images = self._read_images(self.images_path)\n",
    "        self.labels = self._read_labels(self.labels_path)\n",
    "\n",
    "        self.transform = transforms.Compose([\n",
    "            transforms.Resize((self.image_size, self.image_size)),\n",
    "            transforms.ToTensor(),\n",
    "            transforms.Normalize((0.1307,), (0.3081,))\n",
    "        ])\n",
    "\n",
    "    def _read_images(self, filepath):\n",
    "        with open(filepath, 'rb') as f:\n",
    "            magic, num, rows, cols = struct.unpack(\">IIII\", f.read(16))\n",
    "            images = np.frombuffer(f.read(), dtype=np.uint8).reshape(num, 28, 28)\n",
    "        return images\n",
    "\n",
    "    def _read_labels(self, filepath):\n",
    "        with open(filepath, 'rb') as f:\n",
    "            magic, num = struct.unpack(\">II\", f.read(8))\n",
    "            labels = np.frombuffer(f.read(), dtype=np.uint8)\n",
    "        return labels\n",
    "\n",
    "    def __len__(self):\n",
    "        return len(self.images)\n",
    "\n",
    "    def __getitem__(self, idx):\n",
    "        image = self.images[idx]\n",
    "        label = self.labels[idx]\n",
    "        image = Image.fromarray(image, mode='L')\n",
    "\n",
    "        if self.transform:\n",
    "            image = self.transform(image)\n",
    "\n",
    "        return image, label"
   ]
  },
  {
   "cell_type": "markdown",
   "metadata": {},
   "source": [
    "## CNN CLASSIFIER"
   ]
  },
  {
   "cell_type": "code",
   "execution_count": 54,
   "metadata": {
    "execution": {
     "iopub.execute_input": "2025-05-18T02:31:49.531214Z",
     "iopub.status.busy": "2025-05-18T02:31:49.531040Z",
     "iopub.status.idle": "2025-05-18T02:31:49.546468Z",
     "shell.execute_reply": "2025-05-18T02:31:49.545943Z",
     "shell.execute_reply.started": "2025-05-18T02:31:49.531199Z"
    },
    "trusted": true
   },
   "outputs": [],
   "source": [
    "class MnistClassifier(nn.Module):\n",
    "\n",
    "\tdef __init__(self, num_classes=10):\n",
    "\t\tsuper(MnistClassifier, self).__init__()\n",
    "\n",
    "\t\tself.conv1 = nn.Conv2d(1, 16, kernel_size=3, padding=1)\n",
    "\t\tself.pool = nn.MaxPool2d(2, 2)\n",
    "\n",
    "\t\tself.conv2 = nn.Conv2d(16, 32, kernel_size=3, padding=1)\n",
    "\t\tself.conv3 = nn.Conv2d(32, 64, kernel_size=3, padding=1)\n",
    "\n",
    "\t\tself.fc1 = nn.Linear(64 * 3 * 3, 64)\n",
    "\t\tself.fc2 = nn.Linear(64, num_classes)\n",
    "\n",
    "\tdef forward(self, x):\n",
    "\t\tx = self.conv1(x)\n",
    "\t\tx = F.relu(x)\n",
    "\t\tx = self.pool(x)\n",
    "\n",
    "\t\tx = self.conv2(x)\n",
    "\t\tx = F.relu(x)\n",
    "\t\tx = self.pool(x)\n",
    "\n",
    "\t\tx = self.conv3(x)\n",
    "\t\tx = F.relu(x)\n",
    "\t\tx = self.pool(x)\n",
    "\n",
    "\t\tx = x.view(x.size(0), -1)\n",
    "\t\tx = self.fc1(x)\n",
    "\t\tx = F.relu(x)\n",
    "\n",
    "\t\tx = self.fc2(x)\n",
    "\n",
    "\t\treturn x"
   ]
  },
  {
   "cell_type": "code",
   "execution_count": 55,
   "metadata": {
    "execution": {
     "iopub.execute_input": "2025-05-18T02:31:49.547863Z",
     "iopub.status.busy": "2025-05-18T02:31:49.547670Z",
     "iopub.status.idle": "2025-05-18T02:31:49.656986Z",
     "shell.execute_reply": "2025-05-18T02:31:49.656438Z",
     "shell.execute_reply.started": "2025-05-18T02:31:49.547826Z"
    },
    "trusted": true
   },
   "outputs": [],
   "source": [
    "import argparse\n",
    "from torch.utils.data import DataLoader\n",
    "import torch.optim as optim\n",
    "from tqdm import tqdm\n",
    "import matplotlib.pyplot as plt\n",
    "\n",
    "train_dataset = MNISTDataset(\n",
    "\t    images_path='/kaggle/input/mnist-dataset/train-images.idx3-ubyte',\n",
    "\t    labels_path='/kaggle/input/mnist-dataset/train-labels.idx1-ubyte'\n",
    "\t)\n",
    "\n",
    "test_dataset = MNISTDataset(\n",
    "\t    images_path='/kaggle/input/mnist-dataset/t10k-images.idx3-ubyte',\n",
    "\t    labels_path='/kaggle/input/mnist-dataset/t10k-labels.idx1-ubyte'\n",
    "\t)\n",
    "\n",
    "batch_size = 8\n",
    "test_batch_size = 8\n",
    "\n",
    "train_loader = DataLoader(train_dataset, batch_size=batch_size, shuffle=True)\n",
    "test_loader  = DataLoader(test_dataset, batch_size=test_batch_size)\n",
    "\n",
    "device = torch.device(\"cuda\" if torch.cuda.is_available() else \"cpu\")\n",
    "\n",
    "num_classes = 10\n",
    "\n",
    "model = MnistClassifier(num_classes)\n",
    "model = model.to(device)"
   ]
  },
  {
   "cell_type": "markdown",
   "metadata": {},
   "source": [
    "## Fungsi Loss Dan Algoritma Optimizer"
   ]
  },
  {
   "cell_type": "code",
   "execution_count": 56,
   "metadata": {
    "execution": {
     "iopub.execute_input": "2025-05-18T02:31:49.657762Z",
     "iopub.status.busy": "2025-05-18T02:31:49.657598Z",
     "iopub.status.idle": "2025-05-18T02:31:49.662194Z",
     "shell.execute_reply": "2025-05-18T02:31:49.661604Z",
     "shell.execute_reply.started": "2025-05-18T02:31:49.657749Z"
    },
    "trusted": true
   },
   "outputs": [],
   "source": [
    "# fungsi loss\n",
    "criterion = nn.CrossEntropyLoss()\n",
    "\n",
    "# algoritma optimasi\n",
    "# gradient descent \n",
    "lr = 1e-4\n",
    "optimizer = optim.Adam(model.parameters(), lr=lr, weight_decay=1e-5)"
   ]
  },
  {
   "cell_type": "markdown",
   "metadata": {},
   "source": [
    "## Menghitung Jumlah Paramater Yng DIOptimasi"
   ]
  },
  {
   "cell_type": "code",
   "execution_count": 57,
   "metadata": {
    "execution": {
     "iopub.execute_input": "2025-05-18T02:31:49.679597Z",
     "iopub.status.busy": "2025-05-18T02:31:49.678987Z",
     "iopub.status.idle": "2025-05-18T02:31:49.683795Z",
     "shell.execute_reply": "2025-05-18T02:31:49.683169Z",
     "shell.execute_reply.started": "2025-05-18T02:31:49.679576Z"
    },
    "trusted": true
   },
   "outputs": [
    {
     "name": "stdout",
     "output_type": "stream",
     "text": [
      "Total parameters: 0.06M\n",
      "Trainable parameters: 0.06M\n"
     ]
    }
   ],
   "source": [
    "total_params = sum(p.numel() for p in model.parameters())\n",
    "trainable_params = sum(p.numel() for p in model.parameters() if p.requires_grad)\n",
    "\n",
    "print(f\"Total parameters: {total_params / 1e6:.2f}M\")\n",
    "print(f\"Trainable parameters: {trainable_params / 1e6:.2f}M\")"
   ]
  },
  {
   "cell_type": "code",
   "execution_count": 58,
   "metadata": {
    "execution": {
     "iopub.execute_input": "2025-05-18T02:31:49.685149Z",
     "iopub.status.busy": "2025-05-18T02:31:49.684951Z",
     "iopub.status.idle": "2025-05-18T02:34:19.688437Z",
     "shell.execute_reply": "2025-05-18T02:34:19.687744Z",
     "shell.execute_reply.started": "2025-05-18T02:31:49.685134Z"
    },
    "trusted": true
   },
   "outputs": [
    {
     "name": "stderr",
     "output_type": "stream",
     "text": [
      "Epoch 1: 100%|██████████| 7500/7500 [00:27<00:00, 276.14it/s]\n"
     ]
    },
    {
     "name": "stdout",
     "output_type": "stream",
     "text": [
      "Epoch 1: Train Loss 0.0000, Test Loss 0.0930, Test Acc 0.9728\n"
     ]
    },
    {
     "name": "stderr",
     "output_type": "stream",
     "text": [
      "Epoch 2: 100%|██████████| 7500/7500 [00:27<00:00, 275.93it/s]\n"
     ]
    },
    {
     "name": "stdout",
     "output_type": "stream",
     "text": [
      "Epoch 2: Train Loss 0.0000, Test Loss 0.0563, Test Acc 0.9816\n"
     ]
    },
    {
     "name": "stderr",
     "output_type": "stream",
     "text": [
      "Epoch 3: 100%|██████████| 7500/7500 [00:27<00:00, 273.98it/s]\n"
     ]
    },
    {
     "name": "stdout",
     "output_type": "stream",
     "text": [
      "Epoch 3: Train Loss 0.0000, Test Loss 0.0443, Test Acc 0.9861\n"
     ]
    },
    {
     "name": "stderr",
     "output_type": "stream",
     "text": [
      "Epoch 4: 100%|██████████| 7500/7500 [00:27<00:00, 273.76it/s]\n"
     ]
    },
    {
     "name": "stdout",
     "output_type": "stream",
     "text": [
      "Epoch 4: Train Loss 0.0000, Test Loss 0.0384, Test Acc 0.9874\n"
     ]
    },
    {
     "name": "stderr",
     "output_type": "stream",
     "text": [
      "Epoch 5: 100%|██████████| 7500/7500 [00:27<00:00, 275.35it/s]\n"
     ]
    },
    {
     "name": "stdout",
     "output_type": "stream",
     "text": [
      "Epoch 5: Train Loss 0.0000, Test Loss 0.0317, Test Acc 0.9893\n"
     ]
    },
    {
     "data": {
      "image/png": "[encoded data removed]",
      "text/plain": [
       "<Figure size 1000x500 with 1 Axes>"
      ]
     },
     "metadata": {},
     "output_type": "display_data"
    }
   ],
   "source": [
    "train_losses = []\n",
    "test_losses = []\n",
    "\n",
    "epochs = 5\n",
    "checkpoint = 'model_checkpoint.pth'\n",
    "\n",
    "for epoch in range(epochs):\n",
    "\t\tmodel.train()\n",
    "\t\ttrain_loss = 0\n",
    "\n",
    "\t\tfor data, labels in tqdm(train_loader, desc=f\"Epoch {epoch+1}\"):\n",
    "\t\t\tdata, labels = data.to(device), labels.to(device)\n",
    "\t\t\toptimizer.zero_grad()\n",
    "\t\t\toutputs = model(data)\n",
    "\t\t\tloss = criterion(outputs, labels)\n",
    "\t\t\tloss.backward()\n",
    "\t\t\toptimizer.step()\n",
    "\t\t\n",
    "\t\ttrain_loss += loss.item() * data.size(0)\n",
    "\n",
    "\t\tmodel.eval()\n",
    "\t\tcorrect = 0\n",
    "\t\ttotal = 0\n",
    "\t\ttest_loss = 0\n",
    "\n",
    "\t\twith torch.no_grad():\n",
    "\t\t\tfor data, labels in test_loader:\n",
    "\t\t\t\tdata, labels = data.to(device), labels.to(device)\n",
    "\t\t\t\toutputs = model(data)\n",
    "\t\t\t\tloss = criterion(outputs, labels)\n",
    "\t\t\t\ttest_loss += loss.item() * data.size(0)\n",
    "\t\t\t\t_, preds = torch.max(outputs, 1)\n",
    "\t\t\t\tcorrect += (preds == labels).sum().item()\n",
    "\t\t\t\ttotal += labels.size(0)\n",
    "\n",
    "\t\tacc = correct / total\n",
    "\t\tavg_train_loss = train_loss / len(train_dataset)\n",
    "\t\tavg_test_loss = test_loss / len(test_dataset)\n",
    "\n",
    "\t\ttrain_losses.append(avg_train_loss)\n",
    "\t\ttest_losses.append(avg_test_loss)\n",
    "\n",
    "\t\tprint(f\"Epoch {epoch+1}: Train Loss {avg_train_loss:.4f}, Test Loss {avg_test_loss:.4f}, Test Acc {acc:.4f}\")\n",
    "\n",
    "torch.save({\n",
    "\t'epoch': epochs,\n",
    "\t'model_state_dict': model.state_dict(),\n",
    "\t'optimizer_state_dict': optimizer.state_dict(),\n",
    "\t'train_loss': train_losses,\n",
    "\t'test_loss': test_losses,\n",
    "}, checkpoint)\n",
    "\n",
    "epochs_range = range(1, epochs + 1)\n",
    "plt.figure(figsize=(10, 5))\n",
    "plt.plot(epochs_range, train_losses, label='Train Loss', marker='o')\n",
    "plt.plot(epochs_range, test_losses, label='Test Loss', marker='x')\n",
    "plt.xlabel('Epoch')\n",
    "plt.ylabel('Loss')\n",
    "plt.title('Train vs Test Loss per Epoch')\n",
    "plt.legend()\n",
    "plt.grid(True)\n",
    "plt.tight_layout()\n",
    "plt.show()"
   ]
  }
 ],
 "metadata": {
  "kaggle": {
   "accelerator": "gpu",
   "dataSources": [
    {
     "datasetId": 102285,
     "sourceId": 242592,
     "sourceType": "datasetVersion"
    }
   ],
   "dockerImageVersionId": 31041,
   "isGpuEnabled": true,
   "isInternetEnabled": true,
   "language": "python",
   "sourceType": "notebook"
  },
  "kernelspec": {
   "display_name": "Python 3",
   "language": "python",
   "name": "python3"
  },
  "language_info": {
   "codemirror_mode": {
    "name": "ipython",
    "version": 3
   },
   "file_extension": ".py",
   "mimetype": "text/x-python",
   "name": "python",
   "nbconvert_exporter": "python",
   "pygments_lexer": "ipython3",
   "version": "3.11.11"
  }
 },
 "nbformat": 4,
 "nbformat_minor": 4
}
